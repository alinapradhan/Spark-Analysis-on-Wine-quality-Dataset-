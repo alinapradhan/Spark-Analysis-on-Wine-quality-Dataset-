{
  "nbformat": 4,
  "nbformat_minor": 0,
  "metadata": {
    "colab": {
      "provenance": [],
      "authorship_tag": "ABX9TyMTCraiDMpNitngiCen2qqn",
      "include_colab_link": true
    },
    "kernelspec": {
      "name": "python3",
      "display_name": "Python 3"
    },
    "language_info": {
      "name": "python"
    }
  },
  "cells": [
    {
      "cell_type": "markdown",
      "metadata": {
        "id": "view-in-github",
        "colab_type": "text"
      },
      "source": [
        "<a href=\"https://colab.research.google.com/github/alinapradhan/Spark-Analysis-on-Wine-quality-Dataset-/blob/main/Wine_Quality_Analyzer.ipynb\" target=\"_parent\"><img src=\"https://colab.research.google.com/assets/colab-badge.svg\" alt=\"Open In Colab\"/></a>"
      ]
    },
    {
      "cell_type": "code",
      "execution_count": null,
      "metadata": {
        "colab": {
          "base_uri": "https://localhost:8080/"
        },
        "id": "v7qQsKCNkg0b",
        "outputId": "8f405fcb-143f-4fc5-ed67-029173f73a93"
      },
      "outputs": [
        {
          "output_type": "stream",
          "name": "stdout",
          "text": [
            "Requirement already satisfied: pyspark in /usr/local/lib/python3.11/dist-packages (3.5.1)\n",
            "Requirement already satisfied: py4j==0.10.9.7 in /usr/local/lib/python3.11/dist-packages (from pyspark) (0.10.9.7)\n"
          ]
        }
      ],
      "source": [
        "!pip install pyspark"
      ]
    },
    {
      "cell_type": "code",
      "source": [
        "from pyspark.sql import SparkSession"
      ],
      "metadata": {
        "id": "Nq0suj-cktkM"
      },
      "execution_count": null,
      "outputs": []
    },
    {
      "cell_type": "code",
      "source": [
        "from pyspark.sql.functions import col"
      ],
      "metadata": {
        "id": "S8brmR8bkyaK"
      },
      "execution_count": null,
      "outputs": []
    },
    {
      "cell_type": "code",
      "source": [
        "## Initialise spark sessiom\n",
        "spark = SparkSession.builder.appName('winequality-red').getOrCreate()"
      ],
      "metadata": {
        "id": "Xctq-PbLk1Dy"
      },
      "execution_count": null,
      "outputs": []
    },
    {
      "cell_type": "code",
      "source": [
        "spark"
      ],
      "metadata": {
        "colab": {
          "base_uri": "https://localhost:8080/",
          "height": 219
        },
        "id": "TocvoRUjlFea",
        "outputId": "25f93476-2800-451f-8710-d64fb091de7a"
      },
      "execution_count": null,
      "outputs": [
        {
          "output_type": "execute_result",
          "data": {
            "text/plain": [
              "<pyspark.sql.session.SparkSession at 0x7ed551c3f210>"
            ],
            "text/html": [
              "\n",
              "            <div>\n",
              "                <p><b>SparkSession - in-memory</b></p>\n",
              "                \n",
              "        <div>\n",
              "            <p><b>SparkContext</b></p>\n",
              "\n",
              "            <p><a href=\"http://80c5c8c1c9c1:4040\">Spark UI</a></p>\n",
              "\n",
              "            <dl>\n",
              "              <dt>Version</dt>\n",
              "                <dd><code>v3.5.1</code></dd>\n",
              "              <dt>Master</dt>\n",
              "                <dd><code>local[*]</code></dd>\n",
              "              <dt>AppName</dt>\n",
              "                <dd><code>winequality-red</code></dd>\n",
              "            </dl>\n",
              "        </div>\n",
              "        \n",
              "            </div>\n",
              "        "
            ]
          },
          "metadata": {},
          "execution_count": 5
        }
      ]
    },
    {
      "cell_type": "code",
      "source": [
        "##load wine quality dataset (using pyspark's inbuilt sample datasets)\n",
        "df = spark.read.format(\"csv\").option(\"header\", \"true\").option(\"inferSchema\",\"true\").load(\"/content/winequality-red.csv\")"
      ],
      "metadata": {
        "id": "IV1nwCHSlIkC"
      },
      "execution_count": null,
      "outputs": []
    },
    {
      "cell_type": "code",
      "source": [
        "# show initial data\n",
        "df.show()"
      ],
      "metadata": {
        "colab": {
          "base_uri": "https://localhost:8080/"
        },
        "id": "l5ThZKiPlTny",
        "outputId": "81726912-ce1b-4a03-dd64-d47ecd6e5f0d"
      },
      "execution_count": null,
      "outputs": [
        {
          "output_type": "stream",
          "name": "stdout",
          "text": [
            "+-------------+----------------+-----------+--------------+-------------------+-------------------+--------------------+-------+----+---------+-------+-------+\n",
            "|fixed acidity|volatile acidity|citric acid|residual sugar|          chlorides|free sulfur dioxide|total sulfur dioxide|density|  pH|sulphates|alcohol|quality|\n",
            "+-------------+----------------+-----------+--------------+-------------------+-------------------+--------------------+-------+----+---------+-------+-------+\n",
            "|          7.4|             0.7|        0.0|           1.9|              0.076|               11.0|                34.0| 0.9978|3.51|     0.56|    9.4|      5|\n",
            "|          7.8|            0.88|        0.0|           2.6|              0.098|               25.0|                67.0| 0.9968| 3.2|     0.68|    9.8|      5|\n",
            "|          7.8|            0.76|       0.04|           2.3|              0.092|               15.0|                54.0|  0.997|3.26|     0.65|    9.8|      5|\n",
            "|         11.2|            0.28|       0.56|           1.9|              0.075|               17.0|                60.0|  0.998|3.16|     0.58|    9.8|      6|\n",
            "|          7.4|             0.7|        0.0|           1.9|              0.076|               11.0|                34.0| 0.9978|3.51|     0.56|    9.4|      5|\n",
            "|          7.4|            0.66|        0.0|           1.8|              0.075|               13.0|                40.0| 0.9978|3.51|     0.56|    9.4|      5|\n",
            "|          7.9|             0.6|       0.06|           1.6|              0.069|               15.0|                59.0| 0.9964| 3.3|     0.46|    9.4|      5|\n",
            "|          7.3|            0.65|        0.0|           1.2|              0.065|               15.0|                21.0| 0.9946|3.39|     0.47|   10.0|      7|\n",
            "|          7.8|            0.58|       0.02|           2.0|              0.073|                9.0|                18.0| 0.9968|3.36|     0.57|    9.5|      7|\n",
            "|          7.5|             0.5|       0.36|           6.1|              0.071|               17.0|               102.0| 0.9978|3.35|      0.8|   10.5|      5|\n",
            "|          6.7|            0.58|       0.08|           1.8|0.09699999999999999|               15.0|                65.0| 0.9959|3.28|     0.54|    9.2|      5|\n",
            "|          7.5|             0.5|       0.36|           6.1|              0.071|               17.0|               102.0| 0.9978|3.35|      0.8|   10.5|      5|\n",
            "|          5.6|           0.615|        0.0|           1.6|0.08900000000000001|               16.0|                59.0| 0.9943|3.58|     0.52|    9.9|      5|\n",
            "|          7.8|            0.61|       0.29|           1.6|              0.114|                9.0|                29.0| 0.9974|3.26|     1.56|    9.1|      5|\n",
            "|          8.9|            0.62|       0.18|           3.8|0.17600000000000002|               52.0|               145.0| 0.9986|3.16|     0.88|    9.2|      5|\n",
            "|          8.9|            0.62|       0.19|           3.9|               0.17|               51.0|               148.0| 0.9986|3.17|     0.93|    9.2|      5|\n",
            "|          8.5|            0.28|       0.56|           1.8|              0.092|               35.0|               103.0| 0.9969| 3.3|     0.75|   10.5|      7|\n",
            "|          8.1|            0.56|       0.28|           1.7|              0.368|               16.0|                56.0| 0.9968|3.11|     1.28|    9.3|      5|\n",
            "|          7.4|            0.59|       0.08|           4.4|              0.086|                6.0|                29.0| 0.9974|3.38|      0.5|    9.0|      4|\n",
            "|          7.9|            0.32|       0.51|           1.8|              0.341|               17.0|                56.0| 0.9969|3.04|     1.08|    9.2|      6|\n",
            "+-------------+----------------+-----------+--------------+-------------------+-------------------+--------------------+-------+----+---------+-------+-------+\n",
            "only showing top 20 rows\n",
            "\n"
          ]
        }
      ]
    },
    {
      "cell_type": "code",
      "source": [
        "## filter for wines with a quality rating of 7 or higher\n",
        "df_filtered = df.filter(col(\"quality\") >= 7)"
      ],
      "metadata": {
        "id": "kU3sLc1-l9NC"
      },
      "execution_count": null,
      "outputs": []
    },
    {
      "cell_type": "code",
      "source": [
        "# show the filtered data\n",
        "df_filtered.show()\n",
        "## stop spark session\n",
        "spark.stop()"
      ],
      "metadata": {
        "colab": {
          "base_uri": "https://localhost:8080/"
        },
        "id": "3r3Gu5aGmNrK",
        "outputId": "afe685d6-55b6-4937-8915-76a716f3b8bb"
      },
      "execution_count": null,
      "outputs": [
        {
          "output_type": "stream",
          "name": "stdout",
          "text": [
            "+-------------+----------------+-----------+--------------+--------------------+-------------------+--------------------+-------+----+---------+-------+-------+\n",
            "|fixed acidity|volatile acidity|citric acid|residual sugar|           chlorides|free sulfur dioxide|total sulfur dioxide|density|  pH|sulphates|alcohol|quality|\n",
            "+-------------+----------------+-----------+--------------+--------------------+-------------------+--------------------+-------+----+---------+-------+-------+\n",
            "|          7.3|            0.65|        0.0|           1.2|               0.065|               15.0|                21.0| 0.9946|3.39|     0.47|   10.0|      7|\n",
            "|          7.8|            0.58|       0.02|           2.0|               0.073|                9.0|                18.0| 0.9968|3.36|     0.57|    9.5|      7|\n",
            "|          8.5|            0.28|       0.56|           1.8|               0.092|               35.0|               103.0| 0.9969| 3.3|     0.75|   10.5|      7|\n",
            "|          8.1|            0.38|       0.28|           2.1|               0.066|               13.0|                30.0| 0.9968|3.23|     0.73|    9.7|      7|\n",
            "|          7.5|            0.52|       0.16|           1.9|               0.085|               12.0|                35.0| 0.9968|3.38|     0.62|    9.5|      7|\n",
            "|          8.0|            0.59|       0.16|           1.8|               0.065|                3.0|                16.0| 0.9962|3.42|     0.92|   10.5|      7|\n",
            "|          5.4|           0.835|       0.08|           1.2|               0.046|               13.0|                93.0| 0.9924|3.57|     0.85|   13.0|      7|\n",
            "|          9.6|            0.32|       0.47|           1.4|0.055999999999999994|                9.0|                24.0|0.99695|3.22|     0.82|   10.3|      7|\n",
            "|         12.8|             0.3|       0.74|           2.6|               0.095|                9.0|                28.0| 0.9994| 3.2|     0.77|   10.8|      7|\n",
            "|         12.8|             0.3|       0.74|           2.6|               0.095|                9.0|                28.0| 0.9994| 3.2|     0.77|   10.8|      7|\n",
            "|         11.0|             0.3|       0.58|           2.1|0.054000000000000006|                7.0|                19.0|  0.998|3.31|     0.88|   10.5|      7|\n",
            "|          5.2|            0.48|       0.04|           1.6|0.054000000000000006|               19.0|               106.0| 0.9927|3.54|     0.62|   12.2|      7|\n",
            "|         15.0|            0.21|       0.44|           2.2|               0.075|               10.0|                24.0|1.00005|3.07|     0.84|    9.2|      7|\n",
            "|         15.0|            0.21|       0.44|           2.2|               0.075|               10.0|                24.0|1.00005|3.07|     0.84|    9.2|      7|\n",
            "|         10.0|            0.31|       0.47|           2.6|               0.085|               14.0|                33.0|0.99965|3.36|      0.8|   10.5|      7|\n",
            "|         11.8|            0.26|       0.52|           1.8|               0.071|                6.0|                10.0| 0.9968| 3.2|     0.72|   10.2|      7|\n",
            "|          7.9|            0.35|       0.46|           3.6|               0.078|               15.0|                37.0| 0.9973|3.35|     0.86|   12.8|      8|\n",
            "|         10.3|            0.32|       0.45|           6.4|               0.073|                5.0|                13.0| 0.9976|3.23|     0.82|   12.6|      8|\n",
            "|          8.9|             0.4|       0.32|           5.6|               0.087|               10.0|                47.0| 0.9991|3.38|     0.77|   10.5|      7|\n",
            "|          7.7|            0.27|       0.68|           3.5|               0.358|                5.0|                10.0| 0.9972|3.25|     1.08|    9.9|      7|\n",
            "+-------------+----------------+-----------+--------------+--------------------+-------------------+--------------------+-------+----+---------+-------+-------+\n",
            "only showing top 20 rows\n",
            "\n"
          ]
        }
      ]
    },
    {
      "cell_type": "code",
      "source": [],
      "metadata": {
        "id": "I83rJlGumTj6"
      },
      "execution_count": null,
      "outputs": []
    }
  ]
}